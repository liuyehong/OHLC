{
 "cells": [
  {
   "cell_type": "code",
   "execution_count": 1,
   "metadata": {
    "collapsed": true
   },
   "outputs": [],
   "source": [
    "import numpy as np\n",
    "import pandas as pd\n",
    "\n",
    "\n",
    "class Alpha:\n",
    "\n",
    "    def __init__(self, ohlc):\n",
    "        df = ohlc\n",
    "        self.open = df['Open'].values\n",
    "        self.close = df['Close'].values\n",
    "        self.high = df['High'].values\n",
    "        self.low = df['Low'].values\n",
    "        self.vol = df['Volume'].values\n",
    "        self.upper = np.max([self.open, self.close], axis=0)\n",
    "        self.lower = np.min([self.open, self.close], axis=0)\n",
    "        self.T = len(self.close)\n",
    "\n",
    "    # alpha should have the same length with the data.\n",
    "\n",
    "    def close_return(self):\n",
    "        signal = np.concatenate([[np.nan], (self.close[1:]-self.close[:-1])/self.close[:-1]])\n",
    "        return signal\n",
    "\n",
    "    def open_return(self):\n",
    "        signal = np.concatenate([[np.nan], (self.open[1:]-self.open[:-1])/self.open[:-1]])\n",
    "        return signal\n",
    "\n",
    "    def close_open_diff(self):\n",
    "        signal = (self.close - self.open) / self.close\n",
    "        return signal\n",
    "\n",
    "    def upper_lower_diff(self):\n",
    "        signal = (self.upper - self.lower) / self.close\n",
    "        return signal\n",
    "\n",
    "    def high_low_diff(self):\n",
    "        signal = (self.high - self.low) / self.close\n",
    "        return signal\n",
    "\n",
    "    def high_upper_diff(self):\n",
    "        signal = (self.high - self.upper) / self.close\n",
    "        return signal\n",
    "\n",
    "    def lower_low_diff(self):\n",
    "        signal = (self.lower - self.low)/self.close\n",
    "        return signal\n",
    "\n",
    "    def moving_average(self, window=10):\n",
    "        signal = pd.DataFrame({'signal': self.close}).rolling(window=window).mean().values.reshape(-1)\n",
    "        return signal\n",
    "\n",
    "    def moving_std(self, window=10):\n",
    "        signal = pd.DataFrame({'signal': self.close}).rolling(window=window).std().values.reshape(-1)\n",
    "        return signal\n",
    "\n",
    "    def moving_var(self, window=10):\n",
    "        signal = pd.DataFrame({'signal': self.close}).rolling(window=window).var().values.reshape(-1)\n",
    "        return signal\n",
    "\n",
    "    def moving_med(self, window=10):\n",
    "        signal = pd.DataFrame({'signal': self.close}).rolling(window=window).median().values.reshape(-1)\n",
    "        return signal\n",
    "\n",
    "    def moving_max(self, window=10):\n",
    "        signal = pd.DataFrame({'signal': self.close}).rolling(window=window).max().values.reshape(-1)\n",
    "        return signal\n",
    "\n",
    "    def moving_min(self, window=10):\n",
    "        signal = pd.DataFrame({'signal': self.close}).rolling(window=window).min().values.reshape(-1)\n",
    "        return signal\n",
    "\n",
    "    def moving_average_diff(self, window1=10, window2=20):\n",
    "        signal1 = pd.DataFrame({'signal': self.close}).rolling(window=window1).mean().values.reshape(-1)\n",
    "        signal2 = pd.DataFrame({'signal': self.close}).rolling(window=window2).mean().values.reshape(-1)\n",
    "        signal = signal1-signal2\n",
    "        return signal\n",
    "\n",
    "    def bollinger_upper_bound(self, window=10, width=2):\n",
    "        signal = self.moving_average(window=window) + width*self.moving_std(window=window)\n",
    "        return signal\n",
    "\n",
    "    def bollinger_lower_bound(self, window=10, width=2):\n",
    "        signal = self.moving_average(window=window) - width * self.moving_std(window=window)\n",
    "        return signal"
   ]
  },
  {
   "cell_type": "code",
   "execution_count": 2,
   "metadata": {},
   "outputs": [
    {
     "name": "stdout",
     "output_type": "stream",
     "text": [
      "[          nan           nan           nan ... 6281.87772951 6307.27976204\n",
      " 6327.84716729]\n"
     ]
    }
   ],
   "source": [
    "df = pd.read_csv('./data/^SP500TR.csv')\n",
    "alpha = Alpha(df)\n",
    "print(alpha.bollinger_upper_bound(window=10, width=2))"
   ]
  },
  {
   "cell_type": "code",
   "execution_count": 3,
   "metadata": {
    "collapsed": true
   },
   "outputs": [],
   "source": [
    "from alpha import Alpha\n",
    "import numpy as np\n",
    "np.seterr(divide='ignore', invalid='ignore')\n",
    "\n",
    "class Strategy:\n",
    "\n",
    "    def __init__(self, df):\n",
    "        self.alpha = Alpha(df)\n",
    "\n",
    "\n",
    "    def strategy1(self, parameters=(29, 14, 21, 3.0)):\n",
    "        self.bound = np.array([[5, 30], [5, 30], [5, 30], [0.5, 3]])\n",
    "        self.type = ['int', 'int', 'int', 'float']\n",
    "\n",
    "        window1 = parameters[0]\n",
    "        window2 = parameters[1]\n",
    "        window = parameters[2]\n",
    "        width = parameters[3]\n",
    "\n",
    "        moving_average_diff = self.alpha.moving_average_diff(window1=window1, window2=window2)\n",
    "        bollinger_upper_bound = self.alpha.bollinger_upper_bound(window=window, width=width)\n",
    "        bollinger_lower_bound = self.alpha.bollinger_lower_bound(window=window, width=width)\n",
    "\n",
    "        cond_b = [np.nan] + \\\n",
    "                 [moving_average_diff[t-1]<0 and moving_average_diff[t]>0 for t in range(1, self.alpha.T)]\n",
    "\n",
    "        cond_s = [np.nan] + \\\n",
    "                 [moving_average_diff[t-1]>0 and moving_average_diff[t]<0 for t in range(1, self.alpha.T)]\n",
    "\n",
    "        price_b = bollinger_lower_bound\n",
    "        price_s = bollinger_upper_bound\n",
    "\n",
    "        return cond_b, cond_s, price_b, price_s\n",
    "\n",
    "    def strategy2(self, parameters=(8, 0.7768753434085348)):\n",
    "        self.bound = np.array([[5, 15], [1, 2]])\n",
    "        self.type = ['int', 'float']\n",
    "\n",
    "        window = parameters[0]\n",
    "        width = parameters[1]\n",
    "\n",
    "        bollinger_upper_bound = self.alpha.bollinger_upper_bound(window=window, width=width)\n",
    "        bollinger_lower_bound = self.alpha.bollinger_lower_bound(window=window, width=width)\n",
    "\n",
    "        cond_b = [np.nan] + \\\n",
    "                 [self.alpha.close[t-1]< bollinger_upper_bound[t-1]\n",
    "                  and self.alpha.close[t]> bollinger_upper_bound[t] for t in range(1, self.alpha.T)]\n",
    "\n",
    "        cond_s = [np.nan] + \\\n",
    "                 [self.alpha.close[t-1]> bollinger_lower_bound[t-1]\n",
    "                  and self.alpha.close[t]< bollinger_lower_bound[t] for t in range(1, self.alpha.T)]\n",
    "\n",
    "        price_b = bollinger_lower_bound\n",
    "        price_s = bollinger_upper_bound\n",
    "        return cond_b, cond_s, price_b, price_s"
   ]
  },
  {
   "cell_type": "code",
   "execution_count": 4,
   "metadata": {
    "collapsed": true
   },
   "outputs": [],
   "source": [
    "import numpy as np\n",
    "from alpha import Alpha\n",
    "import pandas as pd\n",
    "from strategy import *\n",
    "\n",
    "class Backtest:\n",
    "\n",
    "    def __init__(self, df):\n",
    "        self.alpha = Alpha(df)\n",
    "        self.strategy = Strategy(df)\n",
    "        self.cost = 0.001\n",
    "\n",
    "    def run(self, strategy):\n",
    "        self.history_asset = []\n",
    "        self.buy_time = []\n",
    "        self.sell_time = []\n",
    "        self.history_inventory = []\n",
    "        cash = 1\n",
    "        stock = 0\n",
    "\n",
    "        cond_b, cond_s, price_b, price_s = strategy\n",
    "\n",
    "        for t in range(1, self.alpha.T-1):\n",
    "            if cond_b[t] and stock == 0 and price_b[t]>self.alpha.low[t+1]:\n",
    "                stock = cash / price_b[t] * (1 - self.cost)\n",
    "                cash = 0\n",
    "                self.buy_time.append(t)\n",
    "\n",
    "            elif cond_s[t] and cash == 0 and price_s[t]<self.alpha.high[t+1]:\n",
    "                cash = stock * price_s[t] * (1 - self.cost)\n",
    "                stock = 0\n",
    "                self.sell_time.append(t)\n",
    "\n",
    "            asset = stock * self.alpha.close[t] + cash\n",
    "            self.history_asset.append(asset)\n",
    "            self.history_inventory.append(stock > 0)\n",
    "\n",
    "        self.r = np.diff(self.history_asset)/self.history_asset[:-1]\n",
    "        self.sharpe_ratio = np.average(self.r)/np.std(self.r)\n",
    "        self.sharpe_ratio_year = self.sharpe_ratio*np.sqrt(240)\n",
    "\n",
    "\n",
    "        if np.isnan(self.sharpe_ratio):\n",
    "            self.sharpe_ratio = -np.inf\n",
    "            self.sharpe_ratio_year = -np.inf\n",
    "\n",
    "\n",
    "        df_close = pd.DataFrame({'asset': self.history_asset})['asset']\n",
    "        rollmax = df_close.cummax()\n",
    "        daily_drawdown = df_close/rollmax - 1\n",
    "        self.max_drawdown = np.min(daily_drawdown)\n",
    "        "
   ]
  },
  {
   "cell_type": "code",
   "execution_count": 5,
   "metadata": {},
   "outputs": [
    {
     "name": "stdout",
     "output_type": "stream",
     "text": [
      "0.5363428821840267\n"
     ]
    }
   ],
   "source": [
    "df = pd.read_csv('./data/^SP500TR.csv')\n",
    "backtest = Backtest(df)\n",
    "backtest.run(backtest.strategy.strategy1())\n",
    "print(backtest.sharpe_ratio_year)"
   ]
  },
  {
   "cell_type": "code",
   "execution_count": 6,
   "metadata": {
    "collapsed": true
   },
   "outputs": [],
   "source": [
    "from backtest import Backtest\n",
    "import pandas as pd\n",
    "import numpy as np\n",
    "from scipy.optimize import minimize\n",
    "from strategy import Strategy\n",
    "import traceback\n",
    "\n",
    "\n",
    "class Optimization:\n",
    "\n",
    "    def __init__(self, df):\n",
    "        self.backtest = Backtest(df)\n",
    "\n",
    "    def optimize(self, strategy, n_iters=5, method='Powell'):\n",
    "        self.strategy = strategy\n",
    "        self.strategy()\n",
    "        self.bound = self.backtest.strategy.bound\n",
    "        self.type = self.backtest.strategy.type\n",
    "\n",
    "        list_yopt = []\n",
    "        list_xopt = []\n",
    "        i = 0\n",
    "        while i < n_iters:\n",
    "\n",
    "            try:\n",
    "                # uniform random initial points\n",
    "                x0 = [np.random.random()*(self.bound[k, 1]-self.bound[k, 0])+self.bound[k, 0] for k in range(len(self.bound))]\n",
    "                self.x = x0\n",
    "                self.x = [int(round(self.x[i])) if self.type[i] == 'int' else self.x[i] for i in range(len(self.x))]\n",
    "                res = minimize(self.f, x0=x0, method=method) # Powell\n",
    "                y_opt = self.f(res.x)\n",
    "                x_opt = [int(round(res.x[i])) if self.type[i] == 'int' else res.x[i] for i in range(len(res.x))]\n",
    "                list_yopt.append(y_opt)\n",
    "                list_xopt.append(x_opt)\n",
    "                i += 1\n",
    "                print(x_opt, -y_opt)\n",
    "            except:\n",
    "                pass\n",
    "\n",
    "        global_xopt = list_xopt[np.argmin(list_yopt)]\n",
    "        global_sr = -np.min(list_yopt)\n",
    "        print(global_xopt, global_sr)\n",
    "        return global_xopt, global_sr\n",
    "\n",
    "    def f(self, x):\n",
    "        x = [int(round(x[i])) if self.type[i] == 'int' else x[i] for i in range(len(x))]\n",
    "        self.backtest.run(self.strategy(x))\n",
    "        sr = -self.backtest.sharpe_ratio_year\n",
    "        return sr\n"
   ]
  },
  {
   "cell_type": "code",
   "execution_count": null,
   "metadata": {},
   "outputs": [
    {
     "name": "stdout",
     "output_type": "stream",
     "text": [
      "([19, 31, 6, 1.0387655105112794], 0.6109993081490637)\n",
      "([12, 20, 15, 2.1073984167657986], 0.8915881651795905)\n",
      "([8, 22, 9, 3.5056012911901413], 0.7185013816831329)\n",
      "([11, 15, 29, 1.9128394425421689], 0.6678228471616678)\n",
      "([23, 25, 19, 1.9268274641454943], 0.8169978117188867)\n",
      "([28, 3, 16, 2.6403522723788013], 0.8070171120832859)\n",
      "([19, 18, 8, 3.179806507741027], 0.9014059911622927)\n",
      "([24, 27, 29, 2.9481485894212023], 0.7761912187102825)\n",
      "([22, 27, 21, 2.623942837518112], 0.8225638979981651)\n",
      "([16, 12, 8, 2.825545017364654], 1.011346227847261)\n",
      "([23, 27, 23, 2.1946080274621], 0.7974578426600318)\n",
      "([23, 31, 24, 1.7298302809647599], 0.7544487372379047)\n",
      "([18, 7, 21, 1.8014073112087259], 0.7180525835444023)\n",
      "([14, 17, 22, 1.1462467672447578], 0.7306215418946239)\n",
      "([10, 22, 19, 2.1113231149208445], 0.8123828011678799)\n",
      "([29, 25, 21, 3.2365122544385456], 0.6864353398971607)\n",
      "([13, 26, 12, 1.795691733113649], 0.9227291702852848)\n",
      "([9, 28, 22, 0.8186440506729749], 0.8161248008750215)\n"
     ]
    }
   ],
   "source": [
    "df = pd.read_csv('./data/^SP500TR.csv')\n",
    "opt = Optimization(df)\n",
    "global_xopt, global_sr = opt.optimize(opt.backtest.strategy.strategy1, method='Powell')\n",
    "print(global_xopt, global_sr)"
   ]
  },
  {
   "cell_type": "code",
   "execution_count": 12,
   "metadata": {},
   "outputs": [
    {
     "name": "stdout",
     "output_type": "stream",
     "text": [
      "sharpe ratio:1.0799170557579658\n"
     ]
    }
   ],
   "source": [
    "df = pd.read_csv('./data/^SP500TR.csv')\n",
    "backtest = Backtest(df)\n",
    "backtest.run(backtest.strategy.strategy1([17, 18, 11, 2.4581791422546106]))\n",
    "print('sharpe ratio:' + str(backtest.sharpe_ratio_year))"
   ]
  },
  {
   "cell_type": "code",
   "execution_count": 13,
   "metadata": {},
   "outputs": [
    {
     "data": {
      "image/png": "[encoded data removed]",
      "text/plain": [
       "<matplotlib.figure.Figure at 0x1018a21a50>"
      ]
     },
     "metadata": {},
     "output_type": "display_data"
    }
   ],
   "source": [
    "from matplotlib import pyplot as plt\n",
    "plt.plot(backtest.history_asset)\n",
    "plt.xlabel('Time')\n",
    "plt.ylabel('Asset')\n",
    "plt.show()"
   ]
  },
  {
   "cell_type": "code",
   "execution_count": null,
   "metadata": {
    "collapsed": true
   },
   "outputs": [],
   "source": []
  }
 ],
 "metadata": {
  "kernelspec": {
   "display_name": "Python 2",
   "language": "python",
   "name": "python2"
  },
  "language_info": {
   "codemirror_mode": {
    "name": "ipython",
    "version": 2
   },
   "file_extension": ".py",
   "mimetype": "text/x-python",
   "name": "python",
   "nbconvert_exporter": "python",
   "pygments_lexer": "ipython2",
   "version": "2.7.11"
  }
 },
 "nbformat": 4,
 "nbformat_minor": 2
}
